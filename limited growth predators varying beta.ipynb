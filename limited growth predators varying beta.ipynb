{
 "cells": [
  {
   "cell_type": "code",
   "execution_count": 2,
   "id": "10186c03",
   "metadata": {},
   "outputs": [
    {
     "data": {
      "image/png": "[encoded data removed]",
      "text/plain": [
       "<Figure size 1040x800 with 1 Axes>"
      ]
     },
     "metadata": {
      "needs_background": "light"
     },
     "output_type": "display_data"
    },
    {
     "data": {
      "text/plain": [
       "'\\nplt.grid()\\nplt.legend(loc=\\'upper right\\')\\nplt.legend(fontsize=13) # using a size in points\\nplt.legend(fontsize=\"x-small\") # using a named size\\nplt.xlabel(\\'tempo\\')\\nplt.ylabel(\\'PREDATORI\\')\\nplt.title(\\'ANDAMENTO PREDATORI\\')\\nplt.show()\\n'"
      ]
     },
     "execution_count": 2,
     "metadata": {},
     "output_type": "execute_result"
    }
   ],
   "source": [
    "import numpy as np\n",
    "import scipy.linalg as la\n",
    "import math\n",
    "from scipy import integrate\n",
    "import matplotlib.pyplot as plt\n",
    "import pylab as p\n",
    "import math\n",
    "from matplotlib.pyplot import figure\n",
    "\n",
    "figure(figsize=(13, 10), dpi=80)\n",
    "\n",
    "\"\"\"DEFINIAMO I PARAMETRI\"\"\"\n",
    "\n",
    "alfa = 1     #1. alfa\n",
    "beta = 0.04     #0.1 beta\n",
    "gamma =  1    #1.5 gamma\n",
    "delta =  0.01    #0.75 delta\n",
    "K=500\n",
    "\n",
    "beta1=0.01\n",
    "beta2=0.02\n",
    "beta3=0.03\n",
    "beta4=0.04\n",
    "beta5=0.05\n",
    "beta6=0.06\n",
    "beta7=0.07\n",
    "\n",
    "\"\"\"DEFINIAMO IL SISTEMA\"\"\"\n",
    "def dX_dt1(X,t=0): #X in questo caso è una lista bidimensionale\n",
    "    return [  alfa*X[0] - beta1*X[0]*X[1] - ((alfa/K)*X[0])*X[0]  ,  -gamma*X[1] + delta*X[0]*X[1] ]\n",
    "\n",
    "def dX_dt2(X,t=0): #X in questo caso è una lista bidimensionale\n",
    "    return [  alfa*X[0] - beta2*X[0]*X[1] - ((alfa/K)*X[0])*X[0]  ,  -gamma*X[1] + delta*X[0]*X[1] ]\n",
    "\n",
    "def dX_dt3(X,t=0): #X in questo caso è una lista bidimensionale\n",
    "    return [  alfa*X[0] - beta3*X[0]*X[1] - ((alfa/K)*X[0])*X[0]  ,  -gamma*X[1] + delta*X[0]*X[1] ]\n",
    "\n",
    "def dX_dt4(X,t=0): #X in questo caso è una lista bidimensionale\n",
    "    return [  alfa*X[0] - beta4*X[0]*X[1] - ((alfa/K)*X[0])*X[0]  ,  -gamma*X[1] + delta*X[0]*X[1] ]\n",
    "\n",
    "def dX_dt5(X,t=0): #X in questo caso è una lista bidimensionale\n",
    "    return [  alfa*X[0] - beta5*X[0]*X[1] - ((alfa/K)*X[0])*X[0]  ,  -gamma*X[1] + delta*X[0]*X[1] ]\n",
    "\n",
    "def dX_dt6(X,t=0): #X in questo caso è una lista bidimensionale\n",
    "    return [  alfa*X[0] - beta6*X[0]*X[1] - ((alfa/K)*X[0])*X[0]  ,  -gamma*X[1] + delta*X[0]*X[1] ]\n",
    "\n",
    "def dX_dt7(X,t=0): #X in questo caso è una lista bidimensionale\n",
    "    return [  alfa*X[0] - beta7*X[0]*X[1] - ((alfa/K)*X[0])*X[0]  ,  -gamma*X[1] + delta*X[0]*X[1] ]\n",
    "\n",
    "\n",
    "\n",
    "\n",
    "\n",
    "\"\"\"RISOLVIAMO LE EQUAZIONI DIFFERENZIALI DEL MODELLO LOTKA VOLTERRA CON CRESCITA LIMITATA\"\"\"\n",
    "t = np.linspace(0, 50,  1000) #array temporale\n",
    "X0 = [100, 40]    #condizioni iniziali delle due specie (ad ogni t, corrisponde una coppia di valori, memorizzata in nell'array X\n",
    "\n",
    "X1 = integrate.odeint(dX_dt1,X0,t)#qui integriamo le equazioni, che abbiamo definito sopra\n",
    "X2 = integrate.odeint(dX_dt2,X0,t)\n",
    "X3 = integrate.odeint(dX_dt3,X0,t)\n",
    "X4 = integrate.odeint(dX_dt4,X0,t)\n",
    "X5 = integrate.odeint(dX_dt5,X0,t)\n",
    "X6 = integrate.odeint(dX_dt6,X0,t)\n",
    "X7 = integrate.odeint(dX_dt7,X0,t)\n",
    "\n",
    "\n",
    "prede1, predatori1 = X1.T\n",
    "prede2, predatori2 = X2.T\n",
    "prede3, predatori3 = X3.T\n",
    "prede4, predatori4 = X4.T\n",
    "prede5, predatori5 = X5.T\n",
    "prede6, predatori6 = X6.T\n",
    "prede7, predatori7 = X7.T\n",
    "\n",
    "\n",
    "\"\"\"\n",
    "plt.plot(t, predatori1 , 'b-', label='PREDATORI beta=0.01')\n",
    "plt.plot(t, predatori2 , 'r-', label='PREDATORI beta=0.02')\n",
    "plt.plot(t, predatori3 , 'g-', label='PREDATORI beta=0.03')\n",
    "plt.plot(t, predatori4, 'c-', label='PREDATORI beta=0.04')\n",
    "plt.plot(t, predatori5 , 'm-', label='PREDATORI beta=0.05')\n",
    "plt.plot(t, predatori6 , 'k-', label='PREDATORI beta=0.06')\n",
    "plt.plot(t, predatori7 , 'y-', label='PREDATORI beta=0.06')\n",
    "\"\"\"\n",
    "\n",
    "max1 = max(predatori1)\n",
    "max2 = max(predatori2)\n",
    "max3 = max(predatori3)\n",
    "max4 = max(predatori4)\n",
    "max5 = max(predatori5)\n",
    "max6 = max(predatori6)\n",
    "max7 = max(predatori7)\n",
    "\n",
    "massimi_predatori = [max1,max2,max3,max4,max5,max6,max7]\n",
    "beta= [0.01,0.02,0.03,0.04,0.05,0.06,0.07]\n",
    "plt.plot(beta, massimi_predatori,\"b-\",label=\"Massimo predatori\")\n",
    "plt.grid()\n",
    "plt.legend(loc='upper right')\n",
    "plt.xlabel('beta')\n",
    "plt.ylabel('Numero di individui')\n",
    "plt.show()\n",
    "\"\"\"\n",
    "plt.grid()\n",
    "plt.legend(loc='upper right')\n",
    "plt.legend(fontsize=13) # using a size in points\n",
    "plt.legend(fontsize=\"x-small\") # using a named size\n",
    "plt.xlabel('tempo')\n",
    "plt.ylabel('PREDATORI')\n",
    "plt.title('ANDAMENTO PREDATORI')\n",
    "plt.show()\n",
    "\"\"\"\n",
    "\n"
   ]
  },
  {
   "cell_type": "code",
   "execution_count": null,
   "id": "d20acf08",
   "metadata": {},
   "outputs": [],
   "source": []
  }
 ],
 "metadata": {
  "kernelspec": {
   "display_name": "Python 3",
   "language": "python",
   "name": "python3"
  },
  "language_info": {
   "codemirror_mode": {
    "name": "ipython",
    "version": 3
   },
   "file_extension": ".py",
   "mimetype": "text/x-python",
   "name": "python",
   "nbconvert_exporter": "python",
   "pygments_lexer": "ipython3",
   "version": "3.8.8"
  }
 },
 "nbformat": 4,
 "nbformat_minor": 5
}
